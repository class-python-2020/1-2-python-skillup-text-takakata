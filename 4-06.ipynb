{
 "metadata": {
  "language_info": {
   "codemirror_mode": {
    "name": "ipython",
    "version": 3
   },
   "file_extension": ".py",
   "mimetype": "text/x-python",
   "name": "python",
   "nbconvert_exporter": "python",
   "pygments_lexer": "ipython3",
   "version": 3
  },
  "orig_nbformat": 2,
  "kernelspec": {
   "name": "python_defaultSpec_1596598069287",
   "display_name": "Python 3.8.2 32-bit"
  }
 },
 "nbformat": 4,
 "nbformat_minor": 2,
 "cells": [
  {
   "cell_type": "code",
   "execution_count": 2,
   "metadata": {
    "tags": []
   },
   "outputs": [
    {
     "output_type": "stream",
     "name": "stdout",
     "text": "100\n"
    }
   ],
   "source": [
    "def square(x):\n",
    "    '''与えられた数値の２乗を返す'''\n",
    "    return x ** 2\n",
    "\n",
    "print(square(10))"
   ]
  },
  {
   "cell_type": "code",
   "execution_count": 3,
   "metadata": {
    "tags": []
   },
   "outputs": [
    {
     "output_type": "stream",
     "name": "stdout",
     "text": "100\n"
    }
   ],
   "source": [
    "#与えられた数値の２乗を返す\n",
    "sq_func = lambda x: x ** 2\n",
    "\n",
    "print(sq_func(10))"
   ]
  },
  {
   "cell_type": "code",
   "execution_count": 4,
   "metadata": {
    "tags": []
   },
   "outputs": [
    {
     "output_type": "stream",
     "name": "stdout",
     "text": "文字列リスト: ['NO.1', 'NO.2', 'NO.3', 'NO.4', 'NO.5', 'NO.6', 'NO.7', 'NO.8', 'NO.9', 'NO.10']\n"
    }
   ],
   "source": [
    "i_num_list = range(1,11)\n",
    "s_num_list = list(map(lambda i : \"NO.\" + str(i), i_num_list))\n",
    "print(\"文字列リスト:\",s_num_list)"
   ]
  },
  {
   "cell_type": "code",
   "execution_count": 5,
   "metadata": {
    "tags": []
   },
   "outputs": [
    {
     "output_type": "stream",
     "name": "stdout",
     "text": "NO.1 NO.2 NO.3 NO.4 NO.5 NO.6 NO.7 NO.8 NO.9 NO.10"
    }
   ],
   "source": [
    "#数値を文字に変換して修飾します\n",
    "for s in map(lambda i : \"NO.\" + str(i), range(1,11)):\n",
    "    print(s, end=' ')"
   ]
  },
  {
   "cell_type": "code",
   "execution_count": 6,
   "metadata": {
    "tags": []
   },
   "outputs": [
    {
     "output_type": "stream",
     "name": "stdout",
     "text": "2 4 6 8 10"
    }
   ],
   "source": [
    "#偶数だけ取得します\n",
    "for e in filter(lambda i: i%2==0, range(1,11)):\n",
    "    print(e,end=\" \")"
   ]
  },
  {
   "cell_type": "code",
   "execution_count": 7,
   "metadata": {
    "tags": []
   },
   "outputs": [
    {
     "output_type": "stream",
     "name": "stdout",
     "text": "2 4 6 8 10"
    }
   ],
   "source": [
    "def is_even(x):\n",
    "    '''偶数なら True'''\n",
    "    return x % 2 == 0\n",
    "\n",
    "#偶数だけ取得します\n",
    "for e in filter(is_even, range(1,11)):\n",
    "    print(e, end=\" \")"
   ]
  },
  {
   "cell_type": "code",
   "execution_count": 8,
   "metadata": {
    "tags": []
   },
   "outputs": [
    {
     "output_type": "stream",
     "name": "stdout",
     "text": "[(2, 'down'), (1, 'UP'), (4, 'charm'), (3, 'strange'), (6, 'top'), (5, 'bottom')]\n"
    }
   ],
   "source": [
    "pairs = [(2, 'down'),(1, 'UP'),(4, 'charm'), (3, 'strange'), (6, 'top'),(5, 'bottom')]\n",
    "print(pairs)"
   ]
  },
  {
   "cell_type": "code",
   "execution_count": 9,
   "metadata": {
    "tags": []
   },
   "outputs": [
    {
     "output_type": "stream",
     "name": "stdout",
     "text": "[(1, 'UP'), (2, 'down'), (3, 'strange'), (4, 'charm'), (5, 'bottom'), (6, 'top')]\n"
    }
   ],
   "source": [
    "pairs.sort()\n",
    "print(pairs)"
   ]
  },
  {
   "cell_type": "code",
   "execution_count": 13,
   "metadata": {
    "tags": []
   },
   "outputs": [
    {
     "output_type": "stream",
     "name": "stdout",
     "text": "[(1, 'UP'), (5, 'bottom'), (4, 'charm'), (2, 'down'), (3, 'strange'), (6, 'top')]\n"
    }
   ],
   "source": [
    "pairs.sort(key=lambda x: x[1])\n",
    "print(pairs)"
   ]
  },
  {
   "cell_type": "code",
   "execution_count": 14,
   "metadata": {
    "tags": []
   },
   "outputs": [
    {
     "output_type": "stream",
     "name": "stdout",
     "text": "[(6, 'top'), (3, 'strange'), (2, 'down'), (4, 'charm'), (5, 'bottom'), (1, 'UP')]\n"
    }
   ],
   "source": [
    "pairs.sort(key=lambda x: x[1], reverse=True)\n",
    "print(pairs)"
   ]
  },
  {
   "cell_type": "code",
   "execution_count": 15,
   "metadata": {},
   "outputs": [
    {
     "output_type": "execute_result",
     "data": {
      "text/plain": "'add'"
     },
     "metadata": {},
     "execution_count": 15
    }
   ],
   "source": [
    "n=3\n",
    "func = lambda n: \"even\" if (n % 2 == 0) else \"add\"\n",
    "func(n)"
   ]
  },
  {
   "cell_type": "code",
   "execution_count": 16,
   "metadata": {
    "tags": []
   },
   "outputs": [
    {
     "output_type": "stream",
     "name": "stdout",
     "text": "add\n"
    }
   ],
   "source": [
    "n = 3\n",
    "if (n % 2 == 0):\n",
    "    x = \"even\"\n",
    "else:\n",
    "    x = \"add\"\n",
    "print(x)"
   ]
  },
  {
   "cell_type": "code",
   "execution_count": 6,
   "metadata": {},
   "outputs": [
    {
     "output_type": "execute_result",
     "data": {
      "text/plain": "<map at 0x64a5f40>"
     },
     "metadata": {},
     "execution_count": 6
    }
   ],
   "source": [
    "str_num_list = map(lambda x: \"{:04}\".format(x), range(1,8))\n",
    "str_num_list"
   ]
  },
  {
   "cell_type": "code",
   "execution_count": 7,
   "metadata": {
    "tags": []
   },
   "outputs": [
    {
     "output_type": "stream",
     "name": "stdout",
     "text": "['0001', '0002', '0003', '0004', '0005', '0006', '0007']\n"
    }
   ],
   "source": [
    "print(list(str_num_list))"
   ]
  },
  {
   "cell_type": "code",
   "execution_count": 8,
   "metadata": {
    "tags": []
   },
   "outputs": [
    {
     "output_type": "stream",
     "name": "stdout",
     "text": "['0001', '0002', '0003', '0004', '0005', '0006', '0007']\n"
    }
   ],
   "source": [
    "print([\"{:0=4}\".format(x) for x in range(1,8)])"
   ]
  },
  {
   "cell_type": "code",
   "execution_count": 9,
   "metadata": {
    "tags": []
   },
   "outputs": [
    {
     "output_type": "stream",
     "name": "stdout",
     "text": "<generator object <genexpr> at 0x06BC0A00>\n"
    }
   ],
   "source": [
    "print((\"{:0=4}\".format(x) for x in range(1,8)))"
   ]
  },
  {
   "cell_type": "code",
   "execution_count": 10,
   "metadata": {
    "tags": []
   },
   "outputs": [
    {
     "output_type": "stream",
     "name": "stdout",
     "text": "['0001', '0002', '0003', '0004', '0005', '0006', '0007']\n"
    }
   ],
   "source": [
    "print(list(\"{:0=4}\".format(x) for x in range(1,8)))"
   ]
  },
  {
   "cell_type": "code",
   "execution_count": 17,
   "metadata": {
    "tags": []
   },
   "outputs": [
    {
     "output_type": "stream",
     "name": "stdout",
     "text": "i, name, height, weight\n0 n38 169 72\n1 n16 166 74\n...\n9 n25 181 63\n"
    }
   ],
   "source": [
    "import random\n",
    "def generate_student_data(num_students=10):\n",
    "    student_data = []\n",
    "    for i in range(num_students):\n",
    "        name = 'n' + str(random.randint(10,50))\n",
    "        heigh = random.randint(150,190)\n",
    "        weight = random.randint(50,80)\n",
    "        student_data.append((name, heigh, weight))\n",
    "        if i == 0: print('i, name, height, weight')\n",
    "        if i < 2 or i == num_students -1:\n",
    "            print(i, name, heigh, weight)\n",
    "        elif i == 2:\n",
    "            print('...')\n",
    "    return student_data\n",
    "student_data = generate_student_data(10)"
   ]
  },
  {
   "cell_type": "code",
   "execution_count": 18,
   "metadata": {},
   "outputs": [
    {
     "output_type": "execute_result",
     "data": {
      "text/plain": "[('n38', 169, 72),\n ('n16', 166, 74),\n ('n29', 158, 79),\n ('n30', 186, 73),\n ('n25', 186, 75),\n ('n17', 170, 56),\n ('n40', 172, 57),\n ('n44', 185, 58),\n ('n11', 166, 57),\n ('n25', 181, 63)]"
     },
     "metadata": {},
     "execution_count": 18
    }
   ],
   "source": [
    "student_data"
   ]
  },
  {
   "cell_type": "code",
   "execution_count": 22,
   "metadata": {},
   "outputs": [],
   "source": [
    "students_by_height = sorted(student_data, key=lambda s: s[1])\n",
    "students_by_weight = sorted(student_data, key=lambda s: s[2])"
   ]
  },
  {
   "cell_type": "code",
   "execution_count": 23,
   "metadata": {
    "tags": []
   },
   "outputs": [
    {
     "output_type": "stream",
     "name": "stdout",
     "text": "\nSort by height\n('n29', 158, 79)\n('n16', 166, 74)\n('n11', 166, 57)\n('n38', 169, 72)\n('n17', 170, 56)\n('n40', 172, 57)\n('n25', 181, 63)\n('n44', 185, 58)\n('n30', 186, 73)\n('n25', 186, 75)\n"
    }
   ],
   "source": [
    "print('\\nSort by height')\n",
    "for student in students_by_height:\n",
    "    print(student)"
   ]
  },
  {
   "cell_type": "code",
   "execution_count": 24,
   "metadata": {
    "tags": []
   },
   "outputs": [
    {
     "output_type": "stream",
     "name": "stdout",
     "text": "\nSort by weight\n('n17', 170, 56)\n('n40', 172, 57)\n('n11', 166, 57)\n('n44', 185, 58)\n('n25', 181, 63)\n('n38', 169, 72)\n('n30', 186, 73)\n('n16', 166, 74)\n('n25', 186, 75)\n('n29', 158, 79)\n"
    }
   ],
   "source": [
    "print('\\nSort by weight')\n",
    "for student in students_by_weight:\n",
    "    print(student)"
   ]
  }
 ]
}